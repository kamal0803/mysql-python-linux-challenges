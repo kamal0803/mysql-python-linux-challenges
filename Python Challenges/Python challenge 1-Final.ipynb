{
 "cells": [
  {
   "cell_type": "code",
   "execution_count": 76,
   "id": "50814790",
   "metadata": {},
   "outputs": [],
   "source": [
    "import re"
   ]
  },
  {
   "cell_type": "code",
   "execution_count": 77,
   "id": "c5aa8050",
   "metadata": {},
   "outputs": [],
   "source": [
    "file=open('C:/Users/HP/Downloads/kamal0803-mysql-linux-python-challenges-844400bbaf4b/kamal0803-mysql-linux-python-challenges-844400bbaf4b/Python/hosts.real',\"r\")\n",
    "lines=file.readlines()\n",
    "file.close()"
   ]
  },
  {
   "cell_type": "code",
   "execution_count": 78,
   "id": "806ec67d",
   "metadata": {},
   "outputs": [],
   "source": [
    "# to remove /n from each line\n",
    "\n",
    "for index, line in enumerate(lines):\n",
    "      lines[index] = line.strip()\n",
    "lines=lines[:-1]"
   ]
  },
  {
   "cell_type": "code",
   "execution_count": 79,
   "id": "25bdb609",
   "metadata": {},
   "outputs": [
    {
     "data": {
      "text/plain": [
       "['# IP    hostnames     MAC   # Comments',\n",
       " '192.168.1.250\\tsqlsrv2010.citi.local   00:20:3c:14:08:5b',\n",
       " '192.168.1.200    employees.citi.local    employees\\t00:20:3c:11:ab:32\\t# Employee intranet site',\n",
       " '192.168.5.32    www.intranet.citi.local intranet        00:10:4d:32:ce:22\\t# Citi Intranet site',\n",
       " '192.168.1.1\\tcore1.citi.local\\t00:15:ab:10:01:ba',\n",
       " '192.168.5.1     route1.citi.local\\t00:15:ab:20:03:0a',\n",
       " '192.168.5.20\\tfeed1.citi.local\\t00:10:3e:4f:ab:23    # Market feed 1',\n",
       " '192.168.1.20\\tfeed2.citi.local\\t00:10:3e:3e:03:23\\t# Market feed 2',\n",
       " '192.168.5.10\\tcluster1.citi.local\\t00:20:4d:13:12:a0',\n",
       " '192.168.1.30\\tws01-abc.cit.local\\t00:13:ef:12:0e:3f',\n",
       " \"192.168.5.23    ws02-3ef.cit.local\\t00:12:33:aa:3e:34\\t# David's PC\"]"
      ]
     },
     "execution_count": 79,
     "metadata": {},
     "output_type": "execute_result"
    }
   ],
   "source": [
    "lines"
   ]
  },
  {
   "cell_type": "markdown",
   "id": "ac7d9a71",
   "metadata": {},
   "source": [
    "## Create a new file of hostnames followed by their IP address"
   ]
  },
  {
   "cell_type": "code",
   "execution_count": 80,
   "id": "eb819a27",
   "metadata": {},
   "outputs": [
    {
     "name": "stdout",
     "output_type": "stream",
     "text": [
      "['192.168.1.250', '192.168.1.200', '192.168.5.32', '192.168.1.1', '192.168.5.1', '192.168.5.20', '192.168.1.20', '192.168.5.10', '192.168.1.30', '192.168.5.23']\n"
     ]
    }
   ],
   "source": [
    "ip=[]\n",
    "for line in lines:\n",
    "    x=line.split(' ',1)[0]\n",
    "    if \"\\t\" in x:\n",
    "        ip.append(x.split('\\t',1)[0])\n",
    "    else:\n",
    "        ip.append(x)\n",
    "ip=ip[1:]\n",
    "print(ip)"
   ]
  },
  {
   "cell_type": "code",
   "execution_count": 81,
   "id": "67fb83b4",
   "metadata": {},
   "outputs": [
    {
     "data": {
      "text/plain": [
       "['sqlsrv2010.citi.local',\n",
       " 'employees.citi.local',\n",
       " 'www.intranet.citi.local',\n",
       " 'core1.citi.local',\n",
       " 'route1.citi.local',\n",
       " 'feed1.citi.local',\n",
       " 'feed2.citi.local',\n",
       " 'cluster1.citi.local',\n",
       " 'ws01-abc.cit.local',\n",
       " 'ws02-3ef.cit.local']"
      ]
     },
     "execution_count": 81,
     "metadata": {},
     "output_type": "execute_result"
    }
   ],
   "source": [
    "hostnames=[]\n",
    "for i in range(1,len(lines)):\n",
    "    x=lines[i].replace(ip[i-1],' ').lstrip()\n",
    "    x=x.split(' ',1)[0]\n",
    "    if \"\\t\" in x:\n",
    "        hostnames.append(x.split('\\t',1)[0])\n",
    "    else:\n",
    "        hostnames.append(x)\n",
    "hostnames"
   ]
  },
  {
   "cell_type": "code",
   "execution_count": 82,
   "id": "4b70ae3a",
   "metadata": {},
   "outputs": [
    {
     "data": {
      "text/plain": [
       "['sqlsrv2010.citi.local ',\n",
       " 'employees.citi.local employees',\n",
       " 'www.intranet.citi.local intranet',\n",
       " 'core1.citi.local ',\n",
       " 'route1.citi.local ',\n",
       " 'feed1.citi.local ',\n",
       " 'feed2.citi.local ',\n",
       " 'cluster1.citi.local ',\n",
       " 'ws01-abc.cit.local ',\n",
       " 'ws02-3ef.cit.local ']"
      ]
     },
     "execution_count": 82,
     "metadata": {},
     "output_type": "execute_result"
    }
   ],
   "source": [
    "hostnames_extra=[]\n",
    "hostnames_new=[]\n",
    "for i in range(1,len(lines)):\n",
    "    x=lines[i].replace(ip[i-1],' ').replace(hostnames[i-1],' ').lstrip()\n",
    "    x=x.split(' ',1)[0]\n",
    "    if \"\\t\" in x:\n",
    "        hostnames_extra.append(x.split('\\t',1)[0])\n",
    "    else:\n",
    "        hostnames_extra.append(x)\n",
    "        \n",
    "for i in range(len(hostnames_extra)):\n",
    "    if hostnames_extra[i].startswith('0'):\n",
    "        hostnames_extra[i]=''\n",
    "\n",
    "for i in range(len(hostnames)):\n",
    "    hostnames_new.append(hostnames[i]+\" \"+hostnames_extra[i])\n",
    "hostnames_new"
   ]
  },
  {
   "cell_type": "code",
   "execution_count": 83,
   "id": "b5bdf557",
   "metadata": {},
   "outputs": [
    {
     "data": {
      "text/plain": [
       "['sqlsrv2010.citi.local  192.168.1.250',\n",
       " 'employees.citi.local employees 192.168.1.200',\n",
       " 'www.intranet.citi.local intranet 192.168.5.32',\n",
       " 'core1.citi.local  192.168.1.1',\n",
       " 'route1.citi.local  192.168.5.1',\n",
       " 'feed1.citi.local  192.168.5.20',\n",
       " 'feed2.citi.local  192.168.1.20',\n",
       " 'cluster1.citi.local  192.168.5.10',\n",
       " 'ws01-abc.cit.local  192.168.1.30',\n",
       " 'ws02-3ef.cit.local  192.168.5.23']"
      ]
     },
     "execution_count": 83,
     "metadata": {},
     "output_type": "execute_result"
    }
   ],
   "source": [
    "hostnames_ip=[]\n",
    "\n",
    "for i,j in zip(hostnames_new,ip):\n",
    "    hostnames_ip.append(i+' '+j)\n",
    "hostnames_ip"
   ]
  },
  {
   "cell_type": "code",
   "execution_count": null,
   "id": "bef04764",
   "metadata": {},
   "outputs": [],
   "source": [
    "# To save file\n",
    "\"\"\"\n",
    "with open(\"Path/file_name.txt\", \"w\") as filehandle:\n",
    "    for listitem in hostnames_ip:\n",
    "        filehandle.write('%s\\n' % listitem)\n",
    "\"\"\""
   ]
  },
  {
   "cell_type": "markdown",
   "id": "21c00989",
   "metadata": {},
   "source": [
    "## Remove all comments"
   ]
  },
  {
   "cell_type": "code",
   "execution_count": 84,
   "id": "505c8528",
   "metadata": {},
   "outputs": [],
   "source": [
    "# To remove comments\n",
    "\n",
    "for i in range(1,len(lines)):\n",
    "    lines[i]=lines[i].split('#',1)[0]"
   ]
  },
  {
   "cell_type": "markdown",
   "id": "c3d860c4",
   "metadata": {},
   "source": [
    "## Remove the MAC addresses"
   ]
  },
  {
   "cell_type": "code",
   "execution_count": 85,
   "id": "955b0cd8",
   "metadata": {},
   "outputs": [
    {
     "data": {
      "text/plain": [
       "['00:20:3c:14:08:5b',\n",
       " '00:20:3c:11:ab:32\\t',\n",
       " '00:10:4d:32:ce:22\\t',\n",
       " '00:15:ab:10:01:ba',\n",
       " '00:15:ab:20:03:0a',\n",
       " '00:10:3e:4f:ab:23    ',\n",
       " '00:10:3e:3e:03:23\\t',\n",
       " '00:20:4d:13:12:a0',\n",
       " '00:13:ef:12:0e:3f',\n",
       " '00:12:33:aa:3e:34\\t']"
      ]
     },
     "execution_count": 85,
     "metadata": {},
     "output_type": "execute_result"
    }
   ],
   "source": [
    "temp_list=[]\n",
    "for i in range(1,len(lines)):\n",
    "    temp_list.append(lines[i].replace(ip[i-1],'').replace(hostnames[i-1],'').replace(hostnames_extra[i-1],''))\n",
    "for i in range(len(temp_list)):\n",
    "    temp_list[i]=re.sub('\\temp_list[i]+','',temp_list[i]).lstrip()\n",
    "temp_list"
   ]
  },
  {
   "cell_type": "code",
   "execution_count": 86,
   "id": "11248756",
   "metadata": {},
   "outputs": [
    {
     "data": {
      "text/plain": [
       "['# IP    hostnames     MAC   # Comments',\n",
       " '192.168.1.250\\tsqlsrv2010.citi.local    ',\n",
       " '192.168.1.200    employees.citi.local    employees\\t ',\n",
       " '192.168.5.32    www.intranet.citi.local intranet         ',\n",
       " '192.168.1.1\\tcore1.citi.local\\t ',\n",
       " '192.168.5.1     route1.citi.local\\t ',\n",
       " '192.168.5.20\\tfeed1.citi.local\\t ',\n",
       " '192.168.1.20\\tfeed2.citi.local\\t ',\n",
       " '192.168.5.10\\tcluster1.citi.local\\t ',\n",
       " '192.168.1.30\\tws01-abc.cit.local\\t ',\n",
       " '192.168.5.23    ws02-3ef.cit.local\\t ']"
      ]
     },
     "execution_count": 86,
     "metadata": {},
     "output_type": "execute_result"
    }
   ],
   "source": [
    "for i in range(len(temp_list)):\n",
    "    lines[i+1]=lines[i+1].replace(temp_list[i],' ')\n",
    "lines"
   ]
  },
  {
   "cell_type": "code",
   "execution_count": null,
   "id": "d81a8ecf",
   "metadata": {},
   "outputs": [],
   "source": [
    "# Save file after removing MAC addresses and comments\n",
    "\"\"\"\n",
    "with open(\"Path/hosts.real\", \"w\") as filehandle:\n",
    "    for listitem in lines:\n",
    "        filehandle.write('%s\\n' % listitem)\n",
    "\"\"\""
   ]
  }
 ],
 "metadata": {
  "kernelspec": {
   "display_name": "Python 3",
   "language": "python",
   "name": "python3"
  },
  "language_info": {
   "codemirror_mode": {
    "name": "ipython",
    "version": 3
   },
   "file_extension": ".py",
   "mimetype": "text/x-python",
   "name": "python",
   "nbconvert_exporter": "python",
   "pygments_lexer": "ipython3",
   "version": "3.8.8"
  }
 },
 "nbformat": 4,
 "nbformat_minor": 5
}
